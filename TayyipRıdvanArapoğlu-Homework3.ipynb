{
 "cells": [
  {
   "cell_type": "code",
   "execution_count": 7,
   "metadata": {},
   "outputs": [
    {
     "name": "stdout",
     "output_type": "stream",
     "text": [
      "Please select option 1,2,33\n",
      "Enter a 1st number:1\n",
      "Enter a 2nd number:2\n",
      "Enter a 3rd number:3\n",
      "Enter a 4th number:4\n",
      "Enter a 5th number:5\n",
      "Enter a 6th number:6\n",
      "3.5\n"
     ]
    }
   ],
   "source": [
    "option=int(input(\"Please select option 1,2,3\"))\n",
    "if option > 3:\n",
    "    print(\"Please again select option\")\n",
    "elif option <= 0:\n",
    "    print(\"Please again select option\")\n",
    "    \n",
    "elif option == 1:\n",
    "    print(\"You will calculate the hyponetus\")\n",
    "    print(\"Please, calculate the hyponetus\")\n",
    "    a=int(input(\"Please enter of value a:\"))\n",
    "    b=int(input(\"Please enter of value b:\"))\n",
    "    c=int(a*a+b*b)**0.5\n",
    "    print(c)\n",
    "\n",
    "elif option == 2:\n",
    "    R=int(input(\"Please enter of value R\"))\n",
    "    HW = 1\n",
    "    while HW <= R:\n",
    "        print(HW)\n",
    "        HW +=1\n",
    "        \n",
    "elif option == 3:\n",
    "    number1 = int(input(\"Enter a 1st number:\"))\n",
    "    number2 = int(input(\"Enter a 2nd number:\"))\n",
    "    number3 = int(input(\"Enter a 3rd number:\"))\n",
    "    number4 = int(input(\"Enter a 4th number:\"))\n",
    "    number5 = int(input(\"Enter a 5th number:\"))\n",
    "    number6 = int(input(\"Enter a 6th number:\"))\n",
    "    print((number1+number2+number3+number4+number5+number6)/6)"
   ]
  },
  {
   "cell_type": "code",
   "execution_count": null,
   "metadata": {},
   "outputs": [],
   "source": []
  }
 ],
 "metadata": {
  "kernelspec": {
   "display_name": "Python 3",
   "language": "python",
   "name": "python3"
  },
  "language_info": {
   "codemirror_mode": {
    "name": "ipython",
    "version": 3
   },
   "file_extension": ".py",
   "mimetype": "text/x-python",
   "name": "python",
   "nbconvert_exporter": "python",
   "pygments_lexer": "ipython3",
   "version": "3.7.3"
  }
 },
 "nbformat": 4,
 "nbformat_minor": 2
}
