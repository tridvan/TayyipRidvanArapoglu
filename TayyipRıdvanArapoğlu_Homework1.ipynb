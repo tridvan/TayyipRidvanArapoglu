{
 "cells": [
  {
   "cell_type": "code",
   "execution_count": 1,
   "metadata": {},
   "outputs": [
    {
     "name": "stdout",
     "output_type": "stream",
     "text": [
      "kök bulma\n",
      "(-1.25+1.5612494995995996j)\n",
      "(-1.25-1.5612494995995996j)\n"
     ]
    }
   ],
   "source": [
    "#denklem => 2x+5x+8 = 0\n",
    "#delta = b*b-4ac\n",
    "#x1 = -b+kökdelta/2a\n",
    "#x2 = -b-kökdelta/2x\n",
    "\n",
    "print(\"kök bulma\")\n",
    "a=(2) #\"a=int(input(\"2:\"))\" bu şekilde yazınca hata aldğımdan dolayı bu formatta yazamadım. \n",
    "b=(5)\n",
    "c=(8)\n",
    "delta=b*b-4*a*c\n",
    "\n",
    "kök1=(-b+delta**0.5)/(2*a) #deltanın karekökünü nasıl alacağımı bilmediğimden ötürü internetten baktım\n",
    "kök2=(-b-delta**0.5)/(2*a)\n",
    "print(kök1)\n",
    "print(kök2)"
   ]
  },
  {
   "cell_type": "code",
   "execution_count": null,
   "metadata": {},
   "outputs": [],
   "source": []
  }
 ],
 "metadata": {
  "kernelspec": {
   "display_name": "Python 3",
   "language": "python",
   "name": "python3"
  },
  "language_info": {
   "codemirror_mode": {
    "name": "ipython",
    "version": 3
   },
   "file_extension": ".py",
   "mimetype": "text/x-python",
   "name": "python",
   "nbconvert_exporter": "python",
   "pygments_lexer": "ipython3",
   "version": "3.7.3"
  }
 },
 "nbformat": 4,
 "nbformat_minor": 2
}
